{
 "cells": [
  {
   "cell_type": "markdown",
   "metadata": {},
   "source": [
    "# Radar observations : rainfall composite product, rainfall\n",
    "\n",
    "The aim of this notebook is to help you read the rainfall data.\n",
    "\n",
    "For each radar data type, you will find one archive per year and per zone, each one sliced in periods of 10 or 11 days (each month is separated in 3 files). \n",
    "\n",
    "Each `.npz` file contains 3 arrays :\n",
    "\n",
    "* `data` : an array containing maps of radar data values.\n",
    "\n",
    "* `dates` : an array containing a datetime object and indicating the date of each `data` map.\n",
    "\n",
    "* `miss_dates` : an array containing a datetime object for each missing radar map over the period.\n",
    "\n",
    "Here, the `data` array contains a rainfall map for each time step. For each pixel, the value represents the cumulated rainfall in hundreth of millimeters (10<sup>-2</sup> mm). If the value is missing then the value is -1.\n",
    "\n",
    "The time step between two radar scans is 5 min. The radar starts scanning at 00h every day and ends at 23h55. So each file of 11 days should contain a maximum of 3168 rainfall maps (minus the missing dates).\n",
    "\n",
    "The radar's spatial resolution is 0.01° and the projection system used is EPSG:4326.\n",
    "\n",
    "You will also find a `radar_coords_ZONE.npz` file containing 2 arrays `lats` and `lons`, indicating the coordinates (latitude and longitude) of each radar pixel."
   ]
  },
  {
   "cell_type": "markdown",
   "metadata": {},
   "source": [
    "# Quickstart"
   ]
  },
  {
   "cell_type": "code",
   "execution_count": null,
   "metadata": {},
   "outputs": [],
   "source": [
    "from meteonet_toolbox.user_configuration import *\n",
    "import numpy as np\n",
    "%matplotlib notebook\n",
    "import matplotlib.pyplot as plt\n",
    "from matplotlib import colors"
   ]
  },
  {
   "cell_type": "markdown",
   "metadata": {},
   "source": [
    "First, let's select the zone and date we want to study. Use the `ind_min` and `ind_max` to select a smaller part of the data if you have a small RAM. The maximum value for `ind_max` is 3168 (1 record every 5 min during 11 days -> 12 records per hour * 24 hours * 11 days = 3168)."
   ]
  },
  {
   "cell_type": "code",
   "execution_count": null,
   "metadata": {},
   "outputs": [],
   "source": [
    "zone = \"NW\"\n",
    "year = 2016\n",
    "month = 8\n",
    "decade = 3      # Choose between 1,2,3 : part of the month we want to study\n",
    "ind_min = 0\n",
    "ind_max = 15"
   ]
  },
  {
   "cell_type": "markdown",
   "metadata": {},
   "source": [
    "Get the file names :"
   ]
  },
  {
   "cell_type": "code",
   "execution_count": null,
   "metadata": {},
   "outputs": [],
   "source": [
    "fname = \"../../data_samples/radar/rainfall_%s_%s_%s.%s.npz\" % (zone, str(year),\"{:02d}\".format(month),str(decade))\n",
    "fname_coords = \"../../data_samples/radar/radar_coords_%s.npz\" % (zone)"
   ]
  },
  {
   "cell_type": "markdown",
   "metadata": {},
   "source": [
    "Load the data :"
   ]
  },
  {
   "cell_type": "code",
   "execution_count": null,
   "metadata": {},
   "outputs": [],
   "source": [
    "d = np.load(fname, allow_pickle=True)\n",
    "data = d['data'][ind_min:ind_max,:,:]     #rainfall values -> subset of data from the first day day_i to the last day day_f\n",
    "dates = d['dates'][ind_min:ind_max]        #associated dates values\n",
    "miss_dates = d['miss_dates'][ind_min:ind_max]        #missing dates values\n",
    "\n",
    "#get the coordinates of the points\n",
    "coords = np.load(fname_coords, allow_pickle=True)\n",
    "lat = coords['lats']\n",
    "lon = coords['lons']"
   ]
  },
  {
   "cell_type": "markdown",
   "metadata": {},
   "source": [
    "Plot the rainfall maps :"
   ]
  },
  {
   "cell_type": "code",
   "execution_count": null,
   "metadata": {},
   "outputs": [],
   "source": [
    "title = \"4 examples of rainfall plots\"\n",
    "fig, ax = plt.subplots(2, 2,figsize=(9,9))\n",
    "fig.suptitle(title, fontsize=16)\n",
    "\n",
    "if (np.max(data) > 65):\n",
    "    borne_max = np.max(data)\n",
    "else:\n",
    "    borne_max = 65 + 10\n",
    "cmap = colors.ListedColormap(['silver','white', 'darkslateblue', 'mediumblue','dodgerblue', 'skyblue','olive','mediumseagreen'\n",
    "                              ,'cyan','lime','yellow','khaki','burlywood','orange','brown','pink','red','plum'])\n",
    "bounds = [-1,0,2,4,6,8,10,15,20,25,30,35,40,45,50,55,60,65,borne_max]\n",
    "norm = colors.BoundaryNorm(bounds, cmap.N)\n",
    "\n",
    "pl=ax[0,0].pcolormesh(lon, lat, data[0,:,:],cmap=cmap, norm=norm)\n",
    "ax[0,0].set_ylabel('latitude (degrees_north)')\n",
    "ax[0,0].set_title(str(dates[0]) + \" - \"+  zone + \" zone\")\n",
    "\n",
    "pl=ax[0,1].pcolormesh(lon, lat, data[1,:,:],cmap=cmap, norm=norm)\n",
    "ax[0,1].set_title(str(dates[1]) + \" - \"+  zone + \" zone\")\n",
    "\n",
    "pl=ax[1,0].pcolormesh(lon, lat, data[2,:,:],cmap=cmap, norm=norm)\n",
    "ax[1,0].set_xlabel('longitude (degrees_east)')\n",
    "ax[1,0].set_ylabel('latitude (degrees_north)')\n",
    "ax[1,0].set_title(str(dates[2]) + \" - \"+  zone + \" zone\")\n",
    "\n",
    "pl=ax[1,1].pcolormesh(lon, lat, data[3,:,:],cmap=cmap, norm=norm)\n",
    "ax[1,1].set_xlabel('longitude (degrees_east)')\n",
    "ax[1,1].set_title(str(dates[3]) + \" - \"+  zone + \" zone\")\n",
    "\n",
    "cbar = fig.colorbar(pl,ax=ax.ravel().tolist(),cmap=cmap, norm=norm, boundaries=bounds, ticks=bounds, orientation= 'vertical').set_label('Rainfall (in 1/100 mm) / '+ str(-1) +' : missing values')\n",
    "plt.show()"
   ]
  },
  {
   "cell_type": "markdown",
   "metadata": {},
   "source": [
    "# Exploring the data"
   ]
  },
  {
   "cell_type": "markdown",
   "metadata": {},
   "source": [
    "Dimensions of the 'data' array: \n",
    "<ul>\n",
    "<li>time dimension (number of 5 min records) -> can be reduced and determined by min and max indexes when the dataset is loaded in memory (cf second cell)</li> \n",
    "<li>points number for latitude</li>\n",
    "<li>points number for longitude</li>\n",
    "</ul>    "
   ]
  },
  {
   "cell_type": "code",
   "execution_count": null,
   "metadata": {},
   "outputs": [],
   "source": [
    "data.shape"
   ]
  },
  {
   "cell_type": "markdown",
   "metadata": {},
   "source": [
    "Dimensions of the 'dates' array:\n",
    "<ul>\n",
    "    <li>time dimension (number of 5 min records for which there are data) -> can be reduced and determined by min and max indexes when the dataset is loaded in memory (cf second cell)</li>\n",
    "</ul>"
   ]
  },
  {
   "cell_type": "code",
   "execution_count": null,
   "metadata": {},
   "outputs": [],
   "source": [
    "dates.shape"
   ]
  },
  {
   "cell_type": "markdown",
   "metadata": {},
   "source": [
    "Dimensions of the 'miss_dates' array:\n",
    "<ul>\n",
    "    <li>time dimension (dates for which there are no data) -> can be reduced and determined by min and max indexes when the dataset is loaded in memory (cf second cell)</li>\n",
    "</ul>"
   ]
  },
  {
   "cell_type": "code",
   "execution_count": null,
   "metadata": {},
   "outputs": [],
   "source": [
    "miss_dates.shape"
   ]
  },
  {
   "cell_type": "markdown",
   "metadata": {},
   "source": [
    "Overview of 'data' values of type int16 :"
   ]
  },
  {
   "cell_type": "code",
   "execution_count": null,
   "metadata": {},
   "outputs": [],
   "source": [
    "data"
   ]
  },
  {
   "cell_type": "markdown",
   "metadata": {},
   "source": [
    "Overview of 'dates' of type datetime.datetime"
   ]
  },
  {
   "cell_type": "code",
   "execution_count": null,
   "metadata": {},
   "outputs": [],
   "source": [
    "dates"
   ]
  },
  {
   "cell_type": "markdown",
   "metadata": {},
   "source": [
    "Overview of 'miss_dates' of type datetime.datetime"
   ]
  },
  {
   "cell_type": "code",
   "execution_count": null,
   "metadata": {},
   "outputs": [],
   "source": [
    "miss_dates"
   ]
  },
  {
   "cell_type": "markdown",
   "metadata": {},
   "source": [
    "Overview of latitudes:"
   ]
  },
  {
   "cell_type": "code",
   "execution_count": null,
   "metadata": {},
   "outputs": [],
   "source": [
    "lat"
   ]
  },
  {
   "cell_type": "markdown",
   "metadata": {},
   "source": [
    "# Plots with Basemap"
   ]
  },
  {
   "cell_type": "code",
   "execution_count": null,
   "metadata": {},
   "outputs": [],
   "source": [
    "from mpl_toolkits.basemap import Basemap, cm "
   ]
  },
  {
   "cell_type": "markdown",
   "metadata": {},
   "source": [
    "Define the boundaries of the area we want to plot :"
   ]
  },
  {
   "cell_type": "code",
   "execution_count": null,
   "metadata": {},
   "outputs": [],
   "source": [
    "lllat=DOMAINS[zone]['lry']    #lower left latitude\n",
    "urlat=DOMAINS[zone]['uly']    #upper right latitude\n",
    "lllon=DOMAINS[zone]['ulx']    #lower left longitude\n",
    "urlon=DOMAINS[zone]['lrx']    #upper right longitude"
   ]
  },
  {
   "cell_type": "markdown",
   "metadata": {},
   "source": [
    "Select the index of the date we want to plot. /!\\ 0 <= `ind` < `ind_max` - `ind_min` "
   ]
  },
  {
   "cell_type": "code",
   "execution_count": null,
   "metadata": {},
   "outputs": [],
   "source": [
    "ind = 5"
   ]
  },
  {
   "cell_type": "markdown",
   "metadata": {},
   "source": [
    "Plot the rainfall values for 1 given time step"
   ]
  },
  {
   "cell_type": "code",
   "execution_count": null,
   "metadata": {},
   "outputs": [],
   "source": [
    "fig,ax=plt.subplots(1,1,figsize=(10,12))\n",
    "\n",
    "#background map definition : coordinates of corners, resolution, projection type\n",
    "m = Basemap(epsg=n_epsg,resolution='i', # You can change the resolution of the contours here\n",
    "            llcrnrlat=lllat,\n",
    "              urcrnrlat=urlat,\n",
    "              llcrnrlon=lllon,\n",
    "              urcrnrlon=urlon)\n",
    "\n",
    "#colorbar definition\n",
    "cmap = colors.ListedColormap(['silver','white', 'darkslateblue', 'mediumblue','dodgerblue', 'skyblue','olive','mediumseagreen'\n",
    "                              ,'cyan','lime','yellow','khaki','burlywood','orange','brown','pink','red','plum'])\n",
    "bounds = [-1,0,2,4,6,8,10,15,20,25,30,35,40,45,50,55,60,65,75]\n",
    "norm = colors.BoundaryNorm(bounds, cmap.N)\n",
    "\n",
    "#plot the data and the background map (coastlines and borders)\n",
    "m.drawcoastlines()\n",
    "m.drawcountries()\n",
    "img=m.imshow(data[ind,:,:], interpolation='none', origin='upper',cmap=cmap, norm=norm)\n",
    "plt.colorbar(img, cmap=cmap, norm=norm, boundaries=bounds, ticks=bounds, orientation= 'horizontal').set_label('Rainfall (in 1/100 mm) / '+ \n",
    "                                                                                                          str(-1) +' : missing values')\n",
    "plt.title(\"Rainfalls - \"+ str(dates[ind]) + \" - \"+  zone + \" zone\")\n",
    "plt.show()"
   ]
  }
 ],
 "metadata": {
  "kernelspec": {
   "display_name": "Python 3",
   "language": "python",
   "name": "python3"
  },
  "language_info": {
   "codemirror_mode": {
    "name": "ipython",
    "version": 3
   },
   "file_extension": ".py",
   "mimetype": "text/x-python",
   "name": "python",
   "nbconvert_exporter": "python",
   "pygments_lexer": "ipython3",
   "version": "3.7.1"
  }
 },
 "nbformat": 4,
 "nbformat_minor": 2
}
