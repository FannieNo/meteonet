{
 "cells": [
  {
   "cell_type": "markdown",
   "metadata": {},
   "source": [
    "# Ground station observations\n",
    "\n",
    "This notebook will help you explore the ground station observations. These stations are installed throughout the french territory and fitted with a package of weather sensors (temperature, pressure, wind...).   \n",
    "The data time step is 6 minutes. \n",
    "Each file contains 1 month of data per geographic area ('NW' for North-West of France and 'SE' for South-East of France). \n",
    "\n",
    "Data overview :\n",
    "\n",
    "Parameters about metadata:\n",
    "<ul>\n",
    "    <li>number_sta : ground station number</li>\n",
    "    <li>lat : latitude into decimal degrees</li>\n",
    "    <li>lon : longitude into decimal degrees</li>    \n",
    "    <li>height_sta : station height into meters</li>    \n",
    "</ul>\n",
    "The date parameter is a datetime object with the format 'YYYY-MM-DD HH:mm:ss'.\n",
    "Meteorological parameters:\n",
    "<ul>\n",
    "    <li>dd : wind direction into degrees</li>\n",
    "    <li>ff : wind speed into m.s<sup>-1</sup></li>\n",
    "    <li>precip : precipitation during the reporting period into kg.m<sup>2</sup></li>\n",
    "    <li>hu : humidity into %</li>    \n",
    "    <li>td : dew point temperature** into Kelvin</li> \n",
    "    <li>t : temperature into Kelvin</li> \n",
    "    <li>psl : pressure reduced to sea level into Pa</li>    \n",
    "</ul>\n",
    "\n",
    "** : temperature for which it is needed to refresh an air volume at constant pressure and humidity to become it saturated (i.e. condensation temperature)"
   ]
  },
  {
   "cell_type": "code",
   "execution_count": null,
   "metadata": {},
   "outputs": [],
   "source": [
    "from meteonet_toolbox.user_configuration import *"
   ]
  },
  {
   "cell_type": "code",
   "execution_count": null,
   "metadata": {},
   "outputs": [],
   "source": [
    "import pandas as pd\n",
    "import numpy as np\n",
    "import matplotlib.pyplot as plt"
   ]
  },
  {
   "cell_type": "markdown",
   "metadata": {},
   "source": [
    "Select the zone, date and parameter you want to study :"
   ]
  },
  {
   "cell_type": "code",
   "execution_count": null,
   "metadata": {},
   "outputs": [],
   "source": [
    "zone, day, param = 'SE', '20160101', 'hu'\n",
    "fname = \"../../data_samples/ground_stations/\"+zone+'_'+day+\".csv\"\n",
    "df = pd.read_csv(fname,parse_dates=[4],infer_datetime_format=True)"
   ]
  },
  {
   "cell_type": "markdown",
   "metadata": {},
   "source": [
    "Let's have a look at the dataframe !"
   ]
  },
  {
   "cell_type": "code",
   "execution_count": null,
   "metadata": {},
   "outputs": [],
   "source": [
    "display(df.head())\n",
    "display(df.tail())"
   ]
  },
  {
   "cell_type": "markdown",
   "metadata": {},
   "source": [
    "### Plot a parameter for a given date \n",
    "\n",
    "Let's start by selecting a date and time and displaying a subpart of the dataframe."
   ]
  },
  {
   "cell_type": "code",
   "execution_count": null,
   "metadata": {},
   "outputs": [],
   "source": [
    "date = '2016-01-01T06:00:00'\n",
    "d_sub = df[df['date'] == date]\n",
    "\n",
    "display(d_sub.head())\n",
    "display(d_sub.tail())"
   ]
  },
  {
   "cell_type": "markdown",
   "metadata": {},
   "source": [
    "Now, let's plot the data !"
   ]
  },
  {
   "cell_type": "code",
   "execution_count": null,
   "metadata": {},
   "outputs": [],
   "source": [
    "fig, ax = plt.subplots(1, 1, figsize=(12, 15))\n",
    "\n",
    "# Coordinates of study zone boundaries\n",
    "lllat = DOMAINS[zone]['lry']  #lower left latitude\n",
    "urlat = DOMAINS[zone]['uly']  #upper right latitude\n",
    "lllon = DOMAINS[zone]['ulx']  #lower left longitude\n",
    "urlon = DOMAINS[zone]['lrx']  #upper right longitude\n",
    "\n",
    "# Background map definition : coordinates of corners, resolution, projection type\n",
    "try: \n",
    "    from mpl_toolkits.basemap import Basemap\n",
    "    m = Basemap(epsg=n_epsg,\n",
    "            resolution='l',\n",
    "            llcrnrlat=lllat,\n",
    "            urcrnrlat=urlat,\n",
    "            llcrnrlon=lllon,\n",
    "            urcrnrlon=urlon)\n",
    "\n",
    "    # Plot the data and the background map (coastlines and borders)\n",
    "    m.drawcoastlines()\n",
    "    m.drawcountries()\n",
    "    x, y = m(d_sub['lon'], d_sub['lat'])\n",
    "    m.scatter(x, y, c=d_sub[param], cmap='jet')\n",
    "\n",
    "except Exception as e:\n",
    "    print(\"Warning : you are not using basemap and therefore have no coastlines and countries drawn on the map\")\n",
    "    plt.scatter(d_sub[\"lon\"], d_sub[\"lat\"], c=d_sub[param], cmap=\"jet\")\n",
    "   \n",
    "plt.colorbar(orientation='horizontal').set_label(param)\n",
    "plt.title(\"Ground station observations - parameter \" + param + \" - \" +\n",
    "          str(date) + \" - \" + zone + \" zone\")\n",
    "plt.show()"
   ]
  }
 ],
 "metadata": {
  "kernelspec": {
   "display_name": "Python 3",
   "language": "python",
   "name": "python3"
  },
  "language_info": {
   "codemirror_mode": {
    "name": "ipython",
    "version": 3
   },
   "file_extension": ".py",
   "mimetype": "text/x-python",
   "name": "python",
   "nbconvert_exporter": "python",
   "pygments_lexer": "ipython3",
   "version": "3.7.1"
  }
 },
 "nbformat": 4,
 "nbformat_minor": 2
}
