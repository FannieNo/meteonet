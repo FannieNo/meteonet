{
 "cells": [
  {
   "cell_type": "markdown",
   "metadata": {},
   "source": [
    "# Superimpose data\n",
    "\n",
    "The aim of this notebook is to indicate how to superimpose data from different sources (radar, satellite, weather models...).\n",
    "\n",
    "There are 2 data categories :\n",
    "* data projected on a grid (radar, weather models...)\n",
    "* punctual data like observations from ground stations\n",
    "\n",
    "So, this notebook provides functions which allow to :\n",
    "* superimpose 2 grids of different resolutions\n",
    "* superimpose data on a grid with punctual data"
   ]
  },
  {
   "cell_type": "markdown",
   "metadata": {},
   "source": [
    "# I - Superimpose 2 grids of different resolutions\n",
    "\n",
    "## I.1 - 2 GRIB files \n",
    "### Example : 3D ARPEGE data on isobaric levels (0.1°) to interpolate to 2D AROME data on the 2m level (0.025°)\n",
    "#### Use xarray to open GRIB files and perform interpolation"
   ]
  },
  {
   "cell_type": "code",
   "execution_count": null,
   "metadata": {},
   "outputs": [],
   "source": [
    "import meteonet_toolbox.user_configuration\n",
    "import xarray as xr\n",
    "import datetime as dt\n",
    "%matplotlib notebook\n",
    "import matplotlib.gridspec as gridspec\n",
    "import matplotlib.pyplot as plt\n",
    "import matplotlib.pylab as pl\n",
    "from matplotlib import colors\n",
    "import numpy as np\n",
    "import pandas as pd\n",
    "from scipy.interpolate import griddata"
   ]
  },
  {
   "cell_type": "code",
   "execution_count": null,
   "metadata": {},
   "outputs": [],
   "source": [
    "####Cell containing the modifiable fields######\n",
    "zone = \"SE\"     #geographic zone (NW or SE)\n",
    "arp_param = 't'    #arpege : parameter name in the file (cf cells below to know the parameter names -> exploration of metadata)\n",
    "aro_param = 't2m' #arome : parameter name in the file (cf cells below to know the parameter names -> exploration of metadata)\n",
    "date = dt.datetime(2018, 5, 1,0,0) # Day example \n",
    "time_step = 0                #index for the studied time step \n",
    "level_step = 0               #index for the studied level step (from ground upwards)\n",
    "\n",
    "arp_fname = \"../../data_samples/weather_models/arpege_3D_isobar_%s_%s.grib\" % (zone,date.strftime('%Y%m%d%H%M%S'))\n",
    "aro_fname = \"../../data_samples/weather_models/arome_2m_%s_%s.grib\" % (zone,date.strftime('%Y%m%d%H%M%S'))"
   ]
  },
  {
   "cell_type": "code",
   "execution_count": null,
   "metadata": {},
   "outputs": [],
   "source": [
    "#/!\\#### the plots options depend on the GRIB file structure (for example, 'isobaricInhPa =' means we have a 3D grib file with isobaric levels)\n",
    "def grib_interpolate_grib(ori_fname,tar_fname,time_step,level_step,ori_param,tar_param):\n",
    "    \n",
    "    #data loading\n",
    "    data_to_interpolate = xr.open_dataset(ori_fname, engine='cfgrib')  \n",
    "    target_data = xr.open_dataset(tar_fname, engine='cfgrib')  \n",
    "    \n",
    "    #today, with the function above, 2 interpolation methods are implemented for 2D arrays : 'linear' and 'nearest' for nearest neighbors\n",
    "    interpolated_data = data_to_interpolate.interp_like(target_data,method='linear')\n",
    "    \n",
    "    #plots\n",
    "    fig = plt.figure(figsize=(9,9))\n",
    "    gs = gridspec.GridSpec(2, 2, figure = fig)\n",
    "    #data to interpolate\n",
    "    ax =  pl.subplot(gs[0, 0])\n",
    "    p1 =  data_to_interpolate.isel(step=time_step, isobaricInhPa = level_step)[ori_param].plot(x=\"longitude\",y=\"latitude\")\n",
    "    plt.title('original data')\n",
    "\n",
    "    #interpolated data\n",
    "    ax =  pl.subplot(gs[0, 1])\n",
    "    p1 = interpolated_data.isel(step=time_step, isobaricInhPa = level_step)[ori_param].plot(x=\"longitude\",y=\"latitude\")\n",
    "    plt.title('interpolated data')\n",
    "\n",
    "    #destination data \n",
    "    ax =  pl.subplot(gs[1, 0])\n",
    "    p1 = target_data.isel(step=time_step)[tar_param].plot(x=\"longitude\",y=\"latitude\")\n",
    "    plt.title('data on target grid')\n",
    "    \n",
    "    return data_to_interpolate,interpolated_data, target_data"
   ]
  },
  {
   "cell_type": "code",
   "execution_count": null,
   "metadata": {},
   "outputs": [],
   "source": [
    "#data to interpolate : ARPEGE, target data : AROME\n",
    "data_to_interpolate,interpolated_data, target_data = grib_interpolate_grib(arp_fname,aro_fname,time_step,level_step,arp_param,aro_param)"
   ]
  },
  {
   "cell_type": "markdown",
   "metadata": {},
   "source": [
    "## I.2 - 1 GRIB file and 1 radar file\n",
    "### Example : rainfall data (NPZ file, 0.01°) to interpolate to land-sea mask (GRIB file, 0.025°)"
   ]
  },
  {
   "cell_type": "code",
   "execution_count": null,
   "metadata": {},
   "outputs": [],
   "source": [
    "####Cell containing the modifiable fields######\n",
    "year = 2016\n",
    "month = 8\n",
    "decade = 3\n",
    "ind = 15   #index of the chosen 5 min of the decade \n",
    "nan_value = -1  #nan value for data (ex : rainfall here)\n",
    "\n",
    "rain_param = 'rainfall'    #parameter name for rainfall\n",
    "mask_param = 'lsm'         #parameter name for land-sea mask (cf meta-data in the mask GRIB file)\n",
    "\n",
    "rain_fname = \"../../data_samples/radar/rainfall_%s_%s_%s.%s.npz\" % (zone, str(year),\"{:02d}\".format(month),str(decade))\n",
    "rain_coords_fname = \"../../data_samples/radar/radar_coords_%s.npz\" % (zone)\n",
    "mask_fname = \"../../data_samples/masks/%s_masks.grib\" % (zone)"
   ]
  },
  {
   "cell_type": "markdown",
   "metadata": {},
   "source": [
    "#### Step 1 : put NPZ data into an xarray (values, lat, lon)"
   ]
  },
  {
   "cell_type": "code",
   "execution_count": null,
   "metadata": {},
   "outputs": [],
   "source": [
    "def radar_to_grib(rain_fname,rain_coords_fname,ind):\n",
    "    \n",
    "    #load data\n",
    "    d = np.load(rain_fname, allow_pickle=True)\n",
    "    data = d['data'][ind,:,:]\n",
    "    \n",
    "    coords = np.load(rain_coords_fname, allow_pickle=True)\n",
    "    lat = coords['lats']\n",
    "    lon = coords['lons']\n",
    "    \n",
    "    data = xr.DataArray(data,coords=[lat[:,0],lon[0,:]],dims=['latitude','longitude'])\n",
    "    d_grib = data.to_dataset(name = 'rainfall')\n",
    "    \n",
    "    return d_grib,lat,lon"
   ]
  },
  {
   "cell_type": "code",
   "execution_count": null,
   "metadata": {},
   "outputs": [],
   "source": [
    "d_grib,lat,lon = radar_to_grib(rain_fname,rain_coords_fname,ind)"
   ]
  },
  {
   "cell_type": "code",
   "execution_count": null,
   "metadata": {},
   "outputs": [],
   "source": [
    "np.unique(d_grib['rainfall'].values)"
   ]
  },
  {
   "cell_type": "markdown",
   "metadata": {},
   "source": [
    "#### Step 2 : perform the interpolation\n",
    "**/!\\ if the 'missing data' value is not nan (for example it is -1 for rainfall), it is necessary to convert these values before into nan if you want to use the linear interpolation method, else use the nearest neighbors method**"
   ]
  },
  {
   "cell_type": "code",
   "execution_count": null,
   "metadata": {},
   "outputs": [],
   "source": [
    "#/!\\#### the plots options depend on the GRIB file structure###\n",
    "def radar_interpolate_grib(ori_data,tar_fname,ori_param,tar_param,nan_value):\n",
    "    \n",
    "    #data loading\n",
    "    data_to_interpolate = ori_data\n",
    "    nan_data_to_interpolate = data_to_interpolate.where(data_to_interpolate[\"rainfall\"]!=nan_value)  #missing data (from value to 'nan')\n",
    "    target_data = xr.open_dataset(tar_fname, engine='cfgrib')  \n",
    "    \n",
    "    #today, with the function above, 2 interpolation methods are implemented for 2D arrays : 'linear' and 'nearest' for nearest neighbors\n",
    "    interpolated_data = nan_data_to_interpolate.interp_like(target_data,method='linear')\n",
    "    \n",
    "    #plots\n",
    "    fig = plt.figure(figsize=(9,9))\n",
    "    gs = gridspec.GridSpec(2, 2, figure = fig)\n",
    "        \n",
    "    #colorbar definition for rainfall\n",
    "    if (np.max(data_to_interpolate[ori_param].values) > 65):\n",
    "        borne_max = np.max(data_to_interpolate[ori_param].values)\n",
    "    else:\n",
    "        borne_max = 65 + 10\n",
    "    cmap = colors.ListedColormap(['silver','white', 'darkslateblue', 'mediumblue','dodgerblue', 'skyblue','olive','mediumseagreen'\n",
    "                                  ,'cyan','lime','yellow','khaki','burlywood','orange','brown','pink','red','plum'])\n",
    "    bounds = [-1,0,2,4,6,8,10,15,20,25,30,35,40,45,50,55,60,65,borne_max]\n",
    "    norm = colors.BoundaryNorm(bounds, cmap.N)\n",
    "    \n",
    "    #data to interpolate without nan (original data)\n",
    "    ax =  pl.subplot(gs[0, 0])    \n",
    "    data_to_interpolate[ori_param].plot(cmap=cmap, norm=norm) \n",
    "    plt.title('original data - missing data  : -1')\n",
    "    \n",
    "    #data to interpolate with nan\n",
    "    ax =  pl.subplot(gs[0, 1])    \n",
    "    nan_data_to_interpolate[ori_param].plot(cmap=cmap, norm=norm) \n",
    "    plt.title('original data with nan - missing data : ' + str(nan_value))\n",
    "\n",
    "    #interpolated data\n",
    "    ax =  pl.subplot(gs[1, 0])\n",
    "    interpolated_data[ori_param].plot(cmap=cmap, norm=norm) \n",
    "    plt.title('interpolated data - missing data : nan')\n",
    "\n",
    "    #destination data \n",
    "    ax =  pl.subplot(gs[1, 1]) \n",
    "    target_data[tar_param].plot()\n",
    "    plt.title('data on target grid')\n",
    "    \n",
    "    return data_to_interpolate,nan_data_to_interpolate,interpolated_data, target_data"
   ]
  },
  {
   "cell_type": "code",
   "execution_count": null,
   "metadata": {},
   "outputs": [],
   "source": [
    "data_to_interpolate,nan_data_to_interpolate,interpolated_data, target_data = radar_interpolate_grib(d_grib,mask_fname,rain_param,mask_param,nan_value)"
   ]
  },
  {
   "cell_type": "markdown",
   "metadata": {},
   "source": [
    "# II - Superimpose data on a grid with punctual data\n",
    "\n",
    "### Example 1 : 2D AROME data on the 2m level (GRIB file, 0.025°) to interpolate to ground station observations"
   ]
  },
  {
   "cell_type": "code",
   "execution_count": null,
   "metadata": {},
   "outputs": [],
   "source": [
    "####Cell containing the modifiable fields######\n",
    "date = '2016-01-01T06:00:00'    #study date \n",
    "obs_param = 't'      #observation parameter\n",
    "grib_param = 't2m'   #AROME parameter"
   ]
  },
  {
   "cell_type": "code",
   "execution_count": null,
   "metadata": {},
   "outputs": [],
   "source": [
    "study_date = pd.Timestamp(date)  #study date\n",
    "fname = \"../../data_samples/ground_stations/%s_20160101.csv\"%zone\n",
    "df =pd.read_csv(fname,parse_dates=[4],infer_datetime_format=True)\n",
    "d_sub = df[df['date'] == study_date]"
   ]
  },
  {
   "cell_type": "markdown",
   "metadata": {},
   "source": [
    "Overview of observation data for a given date :"
   ]
  },
  {
   "cell_type": "code",
   "execution_count": null,
   "metadata": {},
   "outputs": [],
   "source": [
    "display(d_sub.head())"
   ]
  },
  {
   "cell_type": "markdown",
   "metadata": {},
   "source": [
    "Load AROME data : parameter values, latitudes and longitudes"
   ]
  },
  {
   "cell_type": "code",
   "execution_count": null,
   "metadata": {},
   "outputs": [],
   "source": [
    "aro = xr.open_dataset(aro_fname, engine='cfgrib')\n",
    "grid_lat = aro['latitude'].values\n",
    "grid_lon = aro['longitude'].values\n",
    "grid_val = aro[grib_param].values"
   ]
  },
  {
   "cell_type": "markdown",
   "metadata": {},
   "source": [
    "Perform the interpolation"
   ]
  },
  {
   "cell_type": "code",
   "execution_count": null,
   "metadata": {},
   "outputs": [],
   "source": [
    "def interpolate_grib_on_points(grid_lat,grid_lon,grid_val,data_obs):\n",
    "    \n",
    "    #initialisation\n",
    "    latlon_grid = []\n",
    "    latlon_obs = []\n",
    "    val_grid = []\n",
    "    \n",
    "    #grid data preprocessing\n",
    "    for i in range(0,grid_lat.shape[0]):        \n",
    "        for j in range(0,grid_lon.shape[0]):\n",
    "            #put coordinates (lat,lon) in list of tuples\n",
    "            latlon_grid.append([round(grid_lat[i],3),round(grid_lon[j],3)])\n",
    "            #put grid values into a list\n",
    "            val_grid.append(grid_val[time_step,i,j])\n",
    "    grid_latlon = np.array(latlon_grid)\n",
    "    grid_val2 = np.array(val_grid)\n",
    "\n",
    "    #obs data preprocessing : put coordinates (lat,lon) in list of tuples\n",
    "    for i in range(0,data_obs.shape[0]):\n",
    "        latlon_obs.append([data_obs['lat'].values[i],data_obs['lon'].values[i]])\n",
    "    latlon_obs = np.array(latlon_obs)\n",
    "    \n",
    "    #interpolation\n",
    "    grid_val_on_points=griddata(grid_latlon ,grid_val2, latlon_obs,  method='linear')\n",
    "    return latlon_obs,grid_val_on_points"
   ]
  },
  {
   "cell_type": "code",
   "execution_count": null,
   "metadata": {},
   "outputs": [],
   "source": [
    "latlon_obs,grid_val_on_points = interpolate_grib_on_points(grid_lat,grid_lon,grid_val,d_sub)"
   ]
  },
  {
   "cell_type": "markdown",
   "metadata": {},
   "source": [
    "latlon_obs : tuples of [lat,lon] of observation points"
   ]
  },
  {
   "cell_type": "code",
   "execution_count": null,
   "metadata": {},
   "outputs": [],
   "source": [
    "latlon_obs[0:10]"
   ]
  },
  {
   "cell_type": "markdown",
   "metadata": {},
   "source": [
    "grid_val_on_points : array of grid values interpolated on observation points "
   ]
  },
  {
   "cell_type": "code",
   "execution_count": null,
   "metadata": {},
   "outputs": [],
   "source": [
    "grid_val_on_points[0:10]"
   ]
  },
  {
   "cell_type": "markdown",
   "metadata": {},
   "source": [
    "### Example 2 : radar data (rainfall, NPZ file, 0.01°) to interpolate to ground station observations"
   ]
  },
  {
   "cell_type": "code",
   "execution_count": null,
   "metadata": {},
   "outputs": [],
   "source": [
    "####Cell containing the modifiable fields######\n",
    "###obs###\n",
    "date = '2016-01-01T06:00:00'    #study date \n",
    "obs_param = 't'      #observation parameter\n",
    "npz_param = 'rainfall'   #npz parameter\n",
    "\n",
    "#rainfall##\n",
    "year = 2016\n",
    "month = 8\n",
    "decade = 3\n",
    "ind = 15   #index of the chosen 5 min of the decade \n",
    "nan_value = -1  #nan value for data (ex : rainfall here)\n",
    "\n",
    "rain_fname = \"../../data_samples/radar/rainfall_%s_%s_%s.%s.npz\" % (zone, str(year),\"{:02d}\".format(month),str(decade))\n",
    "rain_coords_fname = \"../../data_samples/radar/radar_coords_%s.npz\" % (zone)"
   ]
  },
  {
   "cell_type": "code",
   "execution_count": null,
   "metadata": {},
   "outputs": [],
   "source": [
    "study_date = pd.Timestamp(date)  #study date\n",
    "fname = \"../../data_samples/ground_stations/%s_20160101.csv\"%zone\n",
    "df =pd.read_csv(fname,parse_dates=[4],infer_datetime_format=True)\n",
    "d_sub = df[df['date'] == study_date]"
   ]
  },
  {
   "cell_type": "markdown",
   "metadata": {},
   "source": [
    "Overview of observation data for a given date :"
   ]
  },
  {
   "cell_type": "code",
   "execution_count": null,
   "metadata": {},
   "outputs": [],
   "source": [
    "display(d_sub.head())"
   ]
  },
  {
   "cell_type": "markdown",
   "metadata": {},
   "source": [
    "Load radar data : parameter values, latitudes and longitudes"
   ]
  },
  {
   "cell_type": "code",
   "execution_count": null,
   "metadata": {},
   "outputs": [],
   "source": [
    "radar = np.load(rain_fname, allow_pickle=True)\n",
    "data = radar['data'][ind,:,:]\n",
    "coords = np.load(rain_coords_fname, allow_pickle=True)\n",
    "lat = coords['lats']\n",
    "lon = coords['lons']"
   ]
  },
  {
   "cell_type": "markdown",
   "metadata": {},
   "source": [
    "#### Perform the interpolation\n",
    "**/!\\ if the 'missing data' value is not nan (for example it is -1 for rainfall), it is necessary to convert these values before into nan if you want to use the linear interpolation method, else use the nearest neighbors method**"
   ]
  },
  {
   "cell_type": "code",
   "execution_count": null,
   "metadata": {},
   "outputs": [],
   "source": [
    "def interpolate_radar_on_points(grid_lat,grid_lon,grid_val,data_obs):\n",
    "    #grid data preprocessing\n",
    "    latlon_grid = []\n",
    "    latlon_obs = []\n",
    "    val_grid = []\n",
    "    for i in range(0,grid_lat.shape[0]):        \n",
    "        for j in range(0,grid_lon.shape[1]):\n",
    "            #put coordinates (lat,lon) in list of tuples\n",
    "            latlon_grid.append([grid_lat[i,0],grid_lon[0,j]])\n",
    "            #put grid values into a list\n",
    "            val_grid.append(grid_val[i,j])\n",
    "    grid_latlon = np.array(latlon_grid)\n",
    "    grid_val2 = np.array(val_grid)\n",
    "    #replace 'missing data' values by nan\n",
    "    grid_val2 = grid_val2.astype(np.float64)\n",
    "    grid_val2[grid_val2==-1]=np.nan\n",
    "\n",
    "    #obs data preprocessing : put coordinates (lat,lon) in list of tuples\n",
    "    for i in range(0,data_obs.shape[0]):\n",
    "        latlon_obs.append([data_obs['lat'].values[i],data_obs['lon'].values[i]])\n",
    "    latlon_obs = np.array(latlon_obs)\n",
    "\n",
    "    #interpolation\n",
    "    grid_val_on_points=griddata(grid_latlon ,grid_val2, latlon_obs,  method='linear')\n",
    "    return latlon_obs,grid_val_on_points"
   ]
  },
  {
   "cell_type": "code",
   "execution_count": null,
   "metadata": {},
   "outputs": [],
   "source": [
    "latlon_obs,grid_val_on_points = interpolate_radar_on_points(lat,lon,data,d_sub)"
   ]
  },
  {
   "cell_type": "markdown",
   "metadata": {},
   "source": [
    "latlon_obs : tuples of [lat,lon] of observation points"
   ]
  },
  {
   "cell_type": "code",
   "execution_count": null,
   "metadata": {},
   "outputs": [],
   "source": [
    "latlon_obs"
   ]
  },
  {
   "cell_type": "markdown",
   "metadata": {},
   "source": [
    "grid_val_on_points : array of grid values interpolated on observation points "
   ]
  },
  {
   "cell_type": "code",
   "execution_count": null,
   "metadata": {},
   "outputs": [],
   "source": [
    "grid_val_on_points"
   ]
  },
  {
   "cell_type": "code",
   "execution_count": null,
   "metadata": {},
   "outputs": [],
   "source": []
  }
 ],
 "metadata": {
  "kernelspec": {
   "display_name": "Python 3",
   "language": "python",
   "name": "python3"
  },
  "language_info": {
   "codemirror_mode": {
    "name": "ipython",
    "version": 3
   },
   "file_extension": ".py",
   "mimetype": "text/x-python",
   "name": "python",
   "nbconvert_exporter": "python",
   "pygments_lexer": "ipython3",
   "version": "3.7.3"
  }
 },
 "nbformat": 4,
 "nbformat_minor": 2
}
