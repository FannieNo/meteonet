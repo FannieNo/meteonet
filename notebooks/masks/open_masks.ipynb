{
 "cells": [
  {
   "cell_type": "markdown",
   "metadata": {},
   "source": [
    "# Masks : land-sea and relief\n",
    "\n",
    "The aim of this notebook is to indicate how to read the data from masks. For each geographical zone (North-West (NW) of France and South-East (SE) of France), two different masks are stored in a GRIB file:\n",
    "\n",
    "* the **land-sea mask**, stored in the ```lsm``` field. The values are binary : 0 for sea and 1 for land.\n",
    "\n",
    "* the **relief mask**, stored in the ```p3008``` field. The values are in meters.\n",
    "\n",
    "\n",
    "The spatial resolution is 0.025°. \n",
    "These data are constant fields which come from the fine-mesh french weather model called 'AROME'.\n",
    "\n",
    "Note : When you open a GRIB file with the library xarray, a new associated file of type .idx is created. "
   ]
  },
  {
   "cell_type": "code",
   "execution_count": null,
   "metadata": {},
   "outputs": [],
   "source": [
    "from meteonet_toolbox.user_configuration import *\n",
    "import xarray as xr\n",
    "import numpy as np\n",
    "%matplotlib notebook\n",
    "import matplotlib.pyplot as plt"
   ]
  },
  {
   "cell_type": "markdown",
   "metadata": {},
   "source": [
    "Select the area you want to study :"
   ]
  },
  {
   "cell_type": "code",
   "execution_count": null,
   "metadata": {},
   "outputs": [],
   "source": [
    "zone = \"SE\"\n",
    "fname = \"../../data_samples/masks/%s_masks.grib\" % (zone)"
   ]
  },
  {
   "cell_type": "markdown",
   "metadata": {},
   "source": [
    "Open the GRIB file :"
   ]
  },
  {
   "cell_type": "code",
   "execution_count": null,
   "metadata": {
    "scrolled": true
   },
   "outputs": [],
   "source": [
    "data = xr.open_dataset(fname, engine='cfgrib')"
   ]
  },
  {
   "cell_type": "markdown",
   "metadata": {},
   "source": [
    "## Simple plots of the masks"
   ]
  },
  {
   "cell_type": "code",
   "execution_count": null,
   "metadata": {},
   "outputs": [],
   "source": [
    "fig, axs = plt.subplots(1,2, figsize=(9,4))\n",
    "\n",
    "# Plot the land-sea mask\n",
    "data[\"lsm\"].plot(ax=axs[0])\n",
    "\n",
    "# Plot the relief mask\n",
    "vmax = data[\"p3008\"].values.max()\n",
    "data[\"p3008\"].plot(ax=axs[1], cmap='terrain', vmin=-1500, vmax=vmax)\n",
    "\n",
    "plt.show()"
   ]
  },
  {
   "cell_type": "markdown",
   "metadata": {},
   "source": [
    "## Exploring the xarray grid format\n",
    "Overview of the data and metadata : "
   ]
  },
  {
   "cell_type": "code",
   "execution_count": null,
   "metadata": {},
   "outputs": [],
   "source": [
    "data"
   ]
  },
  {
   "cell_type": "markdown",
   "metadata": {},
   "source": [
    "Print information about the coordinates (latitude and longitude):"
   ]
  },
  {
   "cell_type": "code",
   "execution_count": null,
   "metadata": {},
   "outputs": [],
   "source": [
    "coord = 'longitude'\n",
    "data[coord]"
   ]
  },
  {
   "cell_type": "code",
   "execution_count": null,
   "metadata": {},
   "outputs": [],
   "source": [
    "data[coord].units"
   ]
  },
  {
   "cell_type": "code",
   "execution_count": null,
   "metadata": {},
   "outputs": [],
   "source": [
    "data[coord].values"
   ]
  },
  {
   "cell_type": "markdown",
   "metadata": {},
   "source": [
    "Example for the land-sea mask:"
   ]
  },
  {
   "cell_type": "code",
   "execution_count": null,
   "metadata": {},
   "outputs": [],
   "source": [
    "data['lsm']"
   ]
  },
  {
   "cell_type": "markdown",
   "metadata": {},
   "source": [
    "## Plot the masks with Basemap "
   ]
  },
  {
   "cell_type": "code",
   "execution_count": null,
   "metadata": {},
   "outputs": [],
   "source": [
    "from mpl_toolkits.basemap import Basemap, cm "
   ]
  },
  {
   "cell_type": "code",
   "execution_count": null,
   "metadata": {},
   "outputs": [],
   "source": [
    "#coordinates of study zone boundaries\n",
    "lllat=DOMAINS[zone]['lry']    #lower left latitude\n",
    "urlat=DOMAINS[zone]['uly']    #upper right latitude\n",
    "lllon=DOMAINS[zone]['ulx']    #lower left longitude\n",
    "urlon=DOMAINS[zone]['lrx']    #upper right longitude"
   ]
  },
  {
   "cell_type": "code",
   "execution_count": null,
   "metadata": {},
   "outputs": [],
   "source": [
    "fig,ax=plt.subplots(1,1,figsize=(10,12))\n",
    "\n",
    "# Background map definition : coordinates of corners, resolution, projection type\n",
    "m = Basemap(epsg=n_epsg,resolution='i', # You can change the resolution of the contours here\n",
    "            llcrnrlat=lllat,\n",
    "                  urcrnrlat=urlat,\n",
    "                  llcrnrlon=lllon,\n",
    "                  urcrnrlon=urlon)\n",
    "\n",
    "# Plot the data and the background map (coastlines and borders)\n",
    "m.drawcoastlines()\n",
    "m.drawcountries()\n",
    "img=m.imshow(data['lsm'].values, interpolation='none', origin='upper')\n",
    "plt.colorbar(img, orientation= 'horizontal').set_label('')\n",
    "plt.title(\"Land-sea mask - \"+ zone + \" zone\")\n",
    "plt.show()"
   ]
  },
  {
   "cell_type": "code",
   "execution_count": null,
   "metadata": {},
   "outputs": [],
   "source": [
    "fig,ax=plt.subplots(1,1,figsize=(10,12))\n",
    "\n",
    "# Background map definition : coordinates of corners, resolution, projection type\n",
    "m = Basemap(epsg=n_epsg,resolution='i',  # You can change the resolution of the contours here\n",
    "            llcrnrlat=lllat,\n",
    "                  urcrnrlat=urlat,\n",
    "                  llcrnrlon=lllon,\n",
    "                  urcrnrlon=urlon)\n",
    "\n",
    "#plot the data and the background map (coastlines and borders)\n",
    "m.drawcoastlines()\n",
    "m.drawcountries()\n",
    "img=m.imshow(data[\"p3008\"].values, interpolation='none', origin='upper',cmap='terrain')\n",
    "plt.colorbar(img, orientation= 'horizontal').set_label('height (in m)')\n",
    "plt.title(\"Relief mask - \"+ zone + \" zone\")\n",
    "plt.show()"
   ]
  }
 ],
 "metadata": {
  "kernelspec": {
   "display_name": "Python 3",
   "language": "python",
   "name": "python3"
  },
  "language_info": {
   "codemirror_mode": {
    "name": "ipython",
    "version": 3
   },
   "file_extension": ".py",
   "mimetype": "text/x-python",
   "name": "python",
   "nbconvert_exporter": "python",
   "pygments_lexer": "ipython3",
   "version": "3.7.1"
  }
 },
 "nbformat": 4,
 "nbformat_minor": 2
}
